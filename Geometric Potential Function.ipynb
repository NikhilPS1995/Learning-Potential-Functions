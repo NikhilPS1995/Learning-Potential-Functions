{
 "cells": [
  {
   "cell_type": "code",
   "execution_count": 237,
   "id": "95dacc3e",
   "metadata": {},
   "outputs": [],
   "source": [
    "# Import necessary modules\n",
    "\n",
    "import os\n",
    "import sys\n",
    "import numpy as np\n",
    "import math\n",
    "import torch\n",
    "import torch.nn as nn\n",
    "import torch.optim as optim\n",
    "import torch.autograd as autograd\n",
    "import matplotlib.pyplot as plt\n",
    "\n",
    "import torch.nn.functional as F\n"
   ]
  },
  {
   "cell_type": "code",
   "execution_count": 238,
   "id": "0ee46184",
   "metadata": {},
   "outputs": [],
   "source": [
    "need_pytorch3d=False\n",
    "try:\n",
    "    import pytorch3d\n",
    "except ModuleNotFoundError:\n",
    "    need_pytorch3d=True\n",
    "if need_pytorch3d:\n",
    "    if torch.__version__.startswith(\"2.1.\") and sys.platform.startswith(\"linux\"):\n",
    "        # We try to install PyTorch3D via a released wheel.\n",
    "        pyt_version_str=torch.__version__.split(\"+\")[0].replace(\".\", \"\")\n",
    "        version_str=\"\".join([\n",
    "            f\"py3{sys.version_info.minor}_cu\",\n",
    "            torch.version.cuda.replace(\".\",\"\"),\n",
    "            f\"_pyt{pyt_version_str}\"\n",
    "        ])\n",
    "        !pip install fvcore iopath\n",
    "        !pip install --no-index --no-cache-dir pytorch3d -f https://dl.fbaipublicfiles.com/pytorch3d/packaging/wheels/{version_str}/download.html\n",
    "    else:\n",
    "        # We try to install PyTorch3D from source.\n",
    "        !pip install 'git+https://github.com/facebookresearch/pytorch3d.git@stable'\n",
    "import os\n",
    "import torch\n",
    "\n",
    "from pytorch3d.transforms.so3 import (\n",
    "    so3_exp_map,\n",
    "    so3_relative_angle,\n",
    "    so3_log_map,\n",
    ")\n"
   ]
  },
  {
   "cell_type": "code",
   "execution_count": 239,
   "id": "7da7b275",
   "metadata": {},
   "outputs": [],
   "source": [
    "# Input Convex Neural Network\n",
    "\n",
    "class ICNN(nn.Module):\n",
    "    def __init__(self, layer_sizes, activation=F.relu_):\n",
    "        super().__init__()\n",
    "        \n",
    "        self.W = nn.ParameterList([nn.Parameter(torch.Tensor(l, layer_sizes[0]**2)) \n",
    "                                   for l in layer_sizes[1:]])\n",
    "        self.U = nn.ParameterList([nn.Parameter(torch.Tensor(layer_sizes[i+1], layer_sizes[i]))\n",
    "                                   for i in range(1,len(layer_sizes)-1)])\n",
    "        self.bias = nn.ParameterList([nn.Parameter(torch.Tensor(l)) for l in layer_sizes[1:]])\n",
    "        self.act = activation\n",
    "        self.reset_parameters()\n",
    "        \n",
    "\n",
    "    def reset_parameters(self):\n",
    "        # copying from PyTorch Linear\n",
    "        for W in self.W:\n",
    "            nn.init.kaiming_uniform_(W, a=5**0.5)\n",
    "        for U in self.U:\n",
    "            nn.init.kaiming_uniform_(U, a=5**0.5)\n",
    "        for i,b in enumerate(self.bias):\n",
    "            fan_in, _ = nn.init._calculate_fan_in_and_fan_out(self.W[i])\n",
    "            bound = 1 / (fan_in**0.5)\n",
    "            nn.init.uniform_(b, -bound, bound)\n",
    "\n",
    "    def forward(self, x):\n",
    "        \n",
    "        xr = torch.reshape(x,(-1,))\n",
    "        z = F.linear(xr, self.W[0], self.bias[0])\n",
    "        z = self.act(z)\n",
    "\n",
    "        for W,b,U in zip(self.W[1:-1], self.bias[1:-1], self.U[:-1]):\n",
    "            z = F.linear(xr, W, b) + F.linear(z, F.softplus(U)) / U.shape[0]\n",
    "            z = self.act(z)\n",
    "\n",
    "        return F.linear(xr, self.W[-1], self.bias[-1]) + F.linear(z, F.softplus(self.U[-1])) / self.U[-1].shape[0]\n",
    "\n",
    "# Rectified Huber unit - modified ReLU to make it smooth    \n",
    "class ReHU(nn.Module):\n",
    "    \"\"\" Rectified Huber unit\"\"\"\n",
    "    def __init__(self, d):\n",
    "        super().__init__()\n",
    "        self.a = 1/d\n",
    "        self.b = -d/2\n",
    "\n",
    "    def forward(self, x):\n",
    "        return torch.max(torch.clamp(torch.sign(x)*self.a/2*x**2,min=0,max=-self.b),x+self.b)\n",
    "\n",
    "# Adding a quadratic term to make it PSD    \n",
    "class MakePSD(nn.Module):\n",
    "    def __init__(self, f, n, eps=0.01, d=1.0, w1 = 1.0, w2 = 1.0):\n",
    "        super().__init__()\n",
    "        self.f = f\n",
    "        self.zero = torch.nn.Parameter(f(torch.eye(3, dtype = torch.float32)), requires_grad=False)\n",
    "        self.eps = eps\n",
    "        self.d = d\n",
    "        self.rehu = ReHU(self.d)\n",
    "        self.w1 = w1\n",
    "        self.w2 = w2\n",
    "\n",
    "    def forward(self, x):\n",
    "        smoothed_output = self.rehu(self.f(x) - self.zero)\n",
    "        quadratic_under = self.eps*torch.trace(torch.eye(3, dtype = torch.float32)-x) #self.eps*(x**2).sum(1,keepdim=True)\n",
    "        return self.w1*smoothed_output + self.w2*quadratic_under\n",
    "\n",
    "\n",
    "\n",
    "def configure():\n",
    "\n",
    "    lsd = 3\n",
    "    ph_dim = 7 #16 \n",
    "    \n",
    "    V = MakePSD(ICNN([lsd, ph_dim, ph_dim, ph_dim, 1], activation=ReHU(0.01)), lsd, eps = 1.0, d = 1.0, w1 = 1, w2 = 1)\n",
    "    \n",
    "\n",
    "    #V = nn.Sequential(nn.Linear(lsd, ph_dim, bias=False), nn.LeakyReLU(),\n",
    "    #    nn.Linear(ph_dim, lsd, bias=False), nn.LeakyReLU(),\n",
    "    #    PosDefICNN([lsd, ph_dim, ph_dim, 1], eps=projfn_eps, negative_slope=0.3))\n",
    "\n",
    "    \n",
    "    global potentialFunction\n",
    "    potentialFunction = V  \n",
    "\n",
    "    \n"
   ]
  },
  {
   "cell_type": "code",
   "execution_count": 240,
   "id": "f9b5d180",
   "metadata": {},
   "outputs": [],
   "source": [
    "class Dynamics(nn.Module):\n",
    "    \n",
    "    def __init__(self, differentiable_model, J =  torch.eye(3, dtype = torch.float32), Kd = torch.eye(3, dtype = torch.float32), Rd = torch.eye(3, dtype = torch.float32), nSim = 100, dt = 0.01):\n",
    "        super().__init__()\n",
    "\n",
    "        self.differentiable_model = differentiable_model\n",
    "        self.J = J\n",
    "        self.Kd = Kd\n",
    "        self.Rd = Rd\n",
    "        self.nSim = nSim\n",
    "        self.dt = dt\n",
    "        \n",
    "    def proportionalControl(self, R):\n",
    "        \n",
    "        '''\n",
    "        R is the current rotaton matrix state\n",
    "        Rd is the desired rotation matrix \n",
    "        '''\n",
    "        \n",
    "        '''\n",
    "        create a lie algebra element eta and move along eta by eps\n",
    "        take limit eps --> 0\n",
    "        differentiate wrt eta to obtain the gradient (should be the same for any eta) \n",
    "        \n",
    "        '''\n",
    "\n",
    "        \n",
    "        # epsilon for obtaining the limit for a small variation\n",
    "        eps = torch.tensor(0.0, dtype = torch.float32, requires_grad = True)\n",
    "        \n",
    "        # direction (lie algebra element) along which the variation is taken\n",
    "        #eta = torch.randn(1, 3, dtype=torch.float32, requires_grad = True)\n",
    "        \n",
    "        eta = torch.tensor([[1.0, 1.0, 1.0]], dtype = torch.float32, requires_grad = True)\n",
    "        \n",
    "        # variation\n",
    "        delta_R = so3_exp_map(eta*eps)[0]\n",
    "        #delta_Rinv = torch.linalg.inv(delta_R)\n",
    "        \n",
    "        # y+dy \n",
    "        y = self.differentiable_model(0.5*(self.Rd.permute(1,0)@R@delta_R+delta_R.permute(1,0)@R.permute(1,0)@self.Rd)) # traditional forward pass\n",
    "        \n",
    "        # lt eps -> 0 (y+dy(eps) - y)/ eps\n",
    "        dydeps = torch.autograd.grad(y, eps , create_graph = True)[0]\n",
    "        \n",
    "        # grad_eta (dy.eta) = dy\n",
    "        d1Phi = torch.autograd.grad(dydeps, eta, create_graph = True)[0]\n",
    "        #print(\"---------------\")\n",
    "        #print(torch.norm(d1Phi))\n",
    "\n",
    "        return -d1Phi.permute(1,0)\n",
    "    \n",
    "    def derivativeControl(self, R, omega):\n",
    "        \n",
    "        dControl = -self.Kd@omega\n",
    "        #print(torch.norm(dControl))\n",
    "        \n",
    "        return dControl\n",
    "    \n",
    "    def dynamicalModel(self, R, omega, T):\n",
    "\n",
    "        # Angular Velocity at next step\n",
    "        omegaPlus = omega + torch.linalg.inv(self.J)@(torch.linalg.cross(self.J@omega,omega,dim = 0) + T) * self.dt\n",
    "        #omegaPlus = omega +   T * self.dt\n",
    "        \n",
    "        # rotation matrix at next step\n",
    "        RPlus = R@so3_exp_map(omega.permute(1,0)*self.dt)[0]\n",
    "        \n",
    "        return RPlus,omegaPlus\n",
    "    \n",
    "    def forward(self, R0, omega0):\n",
    "    \n",
    "        #R_mat = torch.zeros(3,3,self.nSim, dtype = torch.float32, requires_grad = False)\n",
    "    \n",
    "        #omega_mat = torch.zeros(3,1,self.nSim, dtype = torch.float32, requires_grad = False)\n",
    "        \n",
    "        R,omega = {},{}\n",
    "    \n",
    "        R['e0'] = R0\n",
    "        omega['e0'] = omega0\n",
    "    \n",
    "    \n",
    "        for i in range(self.nSim-1):\n",
    "        \n",
    "            T = self.proportionalControl(R['e'+str(i)]) + self.derivativeControl(R['e'+str(i)], omega['e'+str(i)])\n",
    "            \n",
    "            R['e'+str(i+1)], omega['e'+str(i+1)] = self.dynamicalModel(R['e'+str(i)], omega['e'+str(i)], T)\n",
    "            \n",
    "\n",
    "        return R, omega\n",
    "    \n",
    "    \n",
    "def loss(RPredicted, RDesired, omegaPredicted,  omegaDesired, w_omega):\n",
    "    \n",
    "    l = {}\n",
    "    for key0 in RPredicted:\n",
    "        for key1 in RPredicted[key0]:\n",
    "            l[key0+key1] = torch.norm(RPredicted[key0][key1]-RDesired[key0][key1])**2+w_omega*torch.norm(omegaPredicted[key0][key1]-omegaDesired[key0][key1])**2\n",
    "    \n",
    "    return sum(l.values())"
   ]
  },
  {
   "cell_type": "code",
   "execution_count": 244,
   "id": "6563560c",
   "metadata": {},
   "outputs": [],
   "source": [
    "configure()\n",
    "\n",
    "# Inertia Tensor\n",
    "J = torch.diag(torch.tensor([1.0,1.0,1.0], dtype = torch.float32, requires_grad = False))\n",
    "nSim = 100\n",
    "dt = 0.1\n",
    "Kd = torch.diag(torch.tensor([1,1,1], dtype = torch.float32, requires_grad = False))\n",
    "RDes = torch.eye(3, dtype = torch.float32, requires_grad = False)\n",
    "omegaDes = torch.zeros(3,1, dtype = torch.float32, requires_grad = False)\n",
    "\n",
    "model = Dynamics(potentialFunction, J, Kd, RDes, nSim, dt)"
   ]
  },
  {
   "cell_type": "code",
   "execution_count": 255,
   "id": "058978b5",
   "metadata": {},
   "outputs": [],
   "source": [
    "nData = 50\n",
    "\n",
    "R0_Data = torch.zeros(3,3,nData, dtype = torch.float32)\n",
    "omega0_Data = torch.zeros(3,1,nData, dtype = torch.float32)\n",
    "\n",
    "\n",
    "for i in range(nData):\n",
    "    R0_Data[:,:,i] = so3_exp_map(torch.randn(1,3, dtype = torch.float32))\n",
    "    omega0_Data[:,:,i] = torch.randn(3,1, dtype = torch.float32)\n",
    "    \n",
    "R0_Data.requires_grad = True\n",
    "omega0_Data.requires_grad = True"
   ]
  },
  {
   "cell_type": "code",
   "execution_count": 256,
   "id": "a6f6324b",
   "metadata": {},
   "outputs": [],
   "source": [
    "RDesTraj, omegaDesTraj = {},{} \n",
    "\n",
    "for i in range(nSim):\n",
    "    RDesTraj['e'+str(i)] = RDes\n",
    "    omegaDesTraj['e'+str(i)] = omegaDes\n",
    "    RDesTraj['e'+str(i)].requires_grad = True\n",
    "    omegaDesTraj['e'+str(i)].requires_grad = True"
   ]
  },
  {
   "cell_type": "code",
   "execution_count": 282,
   "id": "c98cecb3",
   "metadata": {},
   "outputs": [
    {
     "name": "stdout",
     "output_type": "stream",
     "text": [
      "epoch number 0 ,loss =  tensor(100.7969, grad_fn=<DivBackward0>)\n",
      "epoch number 1 ,loss =  tensor(100.4012, grad_fn=<DivBackward0>)\n",
      "epoch number 2 ,loss =  tensor(100.1256, grad_fn=<DivBackward0>)\n",
      "epoch number 3 ,loss =  tensor(99.8717, grad_fn=<DivBackward0>)\n",
      "epoch number 4 ,loss =  tensor(99.7716, grad_fn=<DivBackward0>)\n",
      "epoch number 5 ,loss =  tensor(99.5607, grad_fn=<DivBackward0>)\n",
      "epoch number 6 ,loss =  tensor(99.4056, grad_fn=<DivBackward0>)\n",
      "epoch number 7 ,loss =  tensor(99.2630, grad_fn=<DivBackward0>)\n",
      "epoch number 8 ,loss =  tensor(99.0982, grad_fn=<DivBackward0>)\n",
      "epoch number 9 ,loss =  tensor(98.9569, grad_fn=<DivBackward0>)\n"
     ]
    }
   ],
   "source": [
    "learning_rate = 0.01\n",
    "n_iters = 10\n",
    "optimizer = torch.optim.Adam(model.parameters() , lr = learning_rate)\n",
    "w_omega = 1\n",
    "#loss = nn.MSELoss()\n",
    "\n",
    "\n",
    "for epochs in range(n_iters):\n",
    "    \n",
    "    # prediction = forward pass\n",
    "    \n",
    "    #R_predicted = torch.zeros(3,3,nSim,nData, dtype = torch.float32)\n",
    "    #omega_predicted = torch.zeros(3,1,nSim,nData, dtype = torch.float32)\n",
    "    \n",
    "    \n",
    "\n",
    "    #R_actual = torch.zeros(3,3,nSim,nData, dtype = torch.float32)\n",
    "    #omega_actual = torch.zeros(3,1,nSim,nData, dtype = torch.float32)\n",
    "    \n",
    "    RPredicted = {}\n",
    "    omegaPredicted = {}\n",
    "    \n",
    "    RDesired = {}\n",
    "    omegaDesired = {}\n",
    "    \n",
    "    l1 = {}\n",
    "    \n",
    "    for j in range(nData):\n",
    "        RPredicted['e'+str(j)], omegaPredicted['e'+str(j)] = model(R0_Data[:,:,j], omega0_Data[:,:,j])\n",
    "        RDesired['e'+str(j)], omegaDesired['e'+str(j)] = RDesTraj, omegaDesTraj\n",
    "    \n",
    "    l = loss(RPredicted, RDesired,omegaPredicted, omegaDesired, w_omega)/nData\n",
    "    \n",
    "    #print(l)\n",
    "\n",
    "    \n",
    "    # gradients = backward pass\n",
    "    l.backward(retain_graph=True)\n",
    "    \n",
    "    #with torch.no_grad():\n",
    "    #    w-= learning_rate*w.grad\n",
    "    \n",
    "    # instead \n",
    "    optimizer.step()\n",
    "        \n",
    "    # zero gradients\n",
    "    #w.grad.zero_()\n",
    "    optimizer.zero_grad()\n",
    "    \n",
    "    if epochs%1==0:\n",
    "        print('epoch number',epochs,',loss = ', l)"
   ]
  },
  {
   "cell_type": "code",
   "execution_count": 283,
   "id": "af132681",
   "metadata": {},
   "outputs": [],
   "source": [
    "# Benchmark Network\n",
    "    \n",
    "def configure_benchmark():\n",
    "    \n",
    "    lsd = 3\n",
    "    ph_dim = 1 #16\n",
    "    \n",
    "    V = MakePSD(ICNN([lsd, ph_dim, ph_dim, 1], activation=ReHU(0.01)), lsd, eps = 1.0, d = 1.0, w1 = 0.0, w2 = 1.0)\n",
    "    \n",
    "\n",
    "    #V = nn.Sequential(nn.Linear(lsd, ph_dim, bias=False), nn.LeakyReLU(),\n",
    "    #    nn.Linear(ph_dim, lsd, bias=False), nn.LeakyReLU(),\n",
    "    #    PosDefICNN([lsd, ph_dim, ph_dim, 1], eps=projfn_eps, negative_slope=0.3))\n",
    "\n",
    "    \n",
    "    global potentialFunction2\n",
    "    potentialFunction2 = V    \n",
    "\n",
    "    \n"
   ]
  },
  {
   "cell_type": "code",
   "execution_count": 284,
   "id": "f50657b2",
   "metadata": {},
   "outputs": [],
   "source": [
    "configure_benchmark()\n",
    "model2 = Dynamics(potentialFunction2, J, Kd, RDes, nSim, dt)"
   ]
  },
  {
   "cell_type": "code",
   "execution_count": 289,
   "id": "b64ef18d",
   "metadata": {},
   "outputs": [
    {
     "data": {
      "image/png": "[encoded data removed]",
      "text/plain": [
       "<Figure size 640x480 with 1 Axes>"
      ]
     },
     "metadata": {},
     "output_type": "display_data"
    },
    {
     "data": {
      "image/png": "[encoded data removed]",
      "text/plain": [
       "<Figure size 640x480 with 1 Axes>"
      ]
     },
     "metadata": {},
     "output_type": "display_data"
    }
   ],
   "source": [
    "R0_test = so3_exp_map(torch.randn(1,3, dtype = torch.float32, requires_grad = True))[0]\n",
    "omega0_test = 5*torch.randn(3,1, dtype = torch.float32, requires_grad = True)\n",
    "\n",
    "#print(R0_test, omega0_test)\n",
    "\n",
    "#R_NN, omega_NN = model(R0_Data[:,:,3], omega0_Data[:,:,3])\n",
    "#R_benchmark, omega_benchmark = model2(R0_Data[:,:,3], omega0_Data[:,:,3])\n",
    "R_NN, omega_NN = model(R0_test, omega0_test)\n",
    "R_benchmark, omega_benchmark = model2(R0_test, omega0_test)\n",
    "\n",
    "\n",
    "Psi_NN = torch.zeros(nSim, dtype = torch.float32)\n",
    "Psi_benchmark = torch.zeros(nSim, dtype = torch.float32)\n",
    "\n",
    "errorKE_NN = torch.zeros(nSim, dtype = torch.float32)\n",
    "errorKE_benchmark = torch.zeros(nSim, dtype = torch.float32)\n",
    "\n",
    "for i in range(len(R_NN)):\n",
    "    Psi_NN[i] = potentialFunction2(R_NN['e'+str(i)])\n",
    "    Psi_benchmark[i] = potentialFunction2(R_benchmark['e'+str(i)])\n",
    "    \n",
    "    errorKE_NN[i] = torch.norm(omega_NN['e'+str(i)])\n",
    "    errorKE_benchmark[i] = torch.norm(omega_benchmark['e'+str(i)])\n",
    "    \n",
    "plt.plot(Psi_NN.detach().numpy(), 'b-', label='learnt')\n",
    "plt.plot(Psi_benchmark.detach().numpy(), 'r-', label='Frobenius')\n",
    "plt.grid()\n",
    "plt.legend()\n",
    "plt.show()\n",
    "\n",
    "plt.plot(errorKE_NN.detach().numpy(), 'b-', label='learnt')\n",
    "plt.plot(errorKE_benchmark.detach().numpy(), 'r-', label='Frobenius')\n",
    "plt.grid()\n",
    "plt.legend()\n",
    "plt.show()\n",
    "    \n",
    "    \n",
    "    \n",
    "    \n"
   ]
  },
  {
   "cell_type": "code",
   "execution_count": null,
   "id": "5add6f56",
   "metadata": {},
   "outputs": [],
   "source": []
  },
  {
   "cell_type": "code",
   "execution_count": null,
   "id": "b2a63378",
   "metadata": {},
   "outputs": [],
   "source": [
    "learning_rate = 0.001\n",
    "n_iters = 500\n",
    "optimizer = torch.optim.Adam(model.parameters() , lr = learning_rate)\n",
    "w_omega = 1;\n",
    "\n",
    "for epochs in range(n_iters):\n",
    "    # prediction = forward pass\n",
    "     = model(X_actual)\n",
    "    #print(y_pred)\n",
    "    \n",
    "    # loss\n",
    "    l = loss(Y_actual, y_pred)\n",
    "    \n",
    "    # gradients = backward pass\n",
    "    l.backward()\n",
    "    \n",
    "    #with torch.no_grad():\n",
    "    #    w-= learning_rate*w.grad\n",
    "    \n",
    "    # instead \n",
    "    optimizer.step()\n",
    "        \n",
    "    # zero gradients\n",
    "    #w.grad.zero_()\n",
    "    optimizer.zero_grad()\n",
    "    \n",
    "    if epochs%10==0:\n",
    "        print('epoch number',epochs,',loss = ', l)"
   ]
  },
  {
   "cell_type": "code",
   "execution_count": 109,
   "id": "c2eeece0",
   "metadata": {},
   "outputs": [
    {
     "data": {
      "text/plain": [
       "tensor([[0],\n",
       "        [0],\n",
       "        [1]])"
      ]
     },
     "execution_count": 109,
     "metadata": {},
     "output_type": "execute_result"
    }
   ],
   "source": [
    "a = torch.tensor([[1],[0],[0]])\n",
    "b = torch.tensor([[0],[1],[0]])\n",
    "torch.linalg.cross(a,b,dim = 0)"
   ]
  },
  {
   "cell_type": "code",
   "execution_count": 111,
   "id": "efe6b4f0",
   "metadata": {},
   "outputs": [
    {
     "data": {
      "text/plain": [
       "tensor(5.8847)"
      ]
     },
     "execution_count": 111,
     "metadata": {},
     "output_type": "execute_result"
    }
   ],
   "source": [
    "a = torch.randn(3,3,2)\n",
    "b = torch.randn(3,3,2)\n",
    "\n"
   ]
  },
  {
   "cell_type": "code",
   "execution_count": 113,
   "id": "af9024b1",
   "metadata": {},
   "outputs": [
    {
     "data": {
      "text/plain": [
       "tensor(34.6299)"
      ]
     },
     "execution_count": 113,
     "metadata": {},
     "output_type": "execute_result"
    }
   ],
   "source": [
    "torch.norm(a[:,:,0]-b[:,:,0])**2+torch.norm(a[:,:,1]-b[:,:,1])**2\n"
   ]
  },
  {
   "cell_type": "code",
   "execution_count": 114,
   "id": "e5710d9b",
   "metadata": {},
   "outputs": [
    {
     "data": {
      "text/plain": [
       "tensor(34.6299)"
      ]
     },
     "execution_count": 114,
     "metadata": {},
     "output_type": "execute_result"
    }
   ],
   "source": [
    "torch.norm(a-b)**2"
   ]
  },
  {
   "cell_type": "code",
   "execution_count": 120,
   "id": "f4f1f7b5",
   "metadata": {},
   "outputs": [
    {
     "data": {
      "text/plain": [
       "tensor([0.], grad_fn=<AddBackward0>)"
      ]
     },
     "execution_count": 120,
     "metadata": {},
     "output_type": "execute_result"
    }
   ],
   "source": [
    "potentialFunction(torch.eye(3))"
   ]
  },
  {
   "cell_type": "code",
   "execution_count": 144,
   "id": "b8c34f15",
   "metadata": {},
   "outputs": [],
   "source": [
    "class testclass(nn.Module):\n",
    "    def __init__(self):\n",
    "        super().__init__()\n",
    "\n",
    "    def forward1(self, x):\n",
    "        \n",
    "        return x**2\n",
    "    \n",
    "    def forward2(self, x):\n",
    "        \n",
    "        return x**3\n",
    "    \n",
    "    def forward(self, x, y):\n",
    "        return x**2+y**2"
   ]
  },
  {
   "cell_type": "code",
   "execution_count": 145,
   "id": "c5c6f770",
   "metadata": {},
   "outputs": [],
   "source": [
    "a = testclass()\n"
   ]
  },
  {
   "cell_type": "code",
   "execution_count": 147,
   "id": "8bed5f8b",
   "metadata": {},
   "outputs": [
    {
     "data": {
      "text/plain": [
       "tensor([ 5, 13])"
      ]
     },
     "execution_count": 147,
     "metadata": {},
     "output_type": "execute_result"
    }
   ],
   "source": [
    "a(torch.tensor([1,2]),torch.tensor([2,3]))"
   ]
  },
  {
   "cell_type": "code",
   "execution_count": 136,
   "id": "1708d1ba",
   "metadata": {},
   "outputs": [
    {
     "name": "stderr",
     "output_type": "stream",
     "text": [
      "/var/folders/k6/hrbry7gd55db59wvq9grr20r0000gn/T/ipykernel_60248/194551238.py:1: UserWarning: To copy construct from a tensor, it is recommended to use sourceTensor.clone().detach() or sourceTensor.clone().detach().requires_grad_(True), rather than torch.tensor(sourceTensor).\n",
      "  torch.tensor(torch.diag(torch.tensor([1,2,1])))\n"
     ]
    },
    {
     "data": {
      "text/plain": [
       "tensor([[1, 0, 0],\n",
       "        [0, 2, 0],\n",
       "        [0, 0, 1]])"
      ]
     },
     "execution_count": 136,
     "metadata": {},
     "output_type": "execute_result"
    }
   ],
   "source": [
    "torch.tensor(torch.diag(torch.tensor([1,2,1])))"
   ]
  },
  {
   "cell_type": "code",
   "execution_count": 137,
   "id": "6c249ddb",
   "metadata": {},
   "outputs": [],
   "source": [
    "kk = torch.eye(3, requires_grad = False)"
   ]
  },
  {
   "cell_type": "code",
   "execution_count": 138,
   "id": "b57c550f",
   "metadata": {},
   "outputs": [
    {
     "data": {
      "text/plain": [
       "tensor([[1., 0., 0.],\n",
       "        [0., 1., 0.],\n",
       "        [0., 0., 1.]])"
      ]
     },
     "execution_count": 138,
     "metadata": {},
     "output_type": "execute_result"
    }
   ],
   "source": [
    "kk"
   ]
  },
  {
   "cell_type": "code",
   "execution_count": 171,
   "id": "0c74043d",
   "metadata": {},
   "outputs": [
    {
     "name": "stdout",
     "output_type": "stream",
     "text": [
      "tensor([[0., 0., 0.]], grad_fn=<MulBackward0>)\n",
      "tensor([[0.9900, 1.0000, 1.0000],\n",
      "        [1.9550, 1.9350, 1.9550],\n",
      "        [3.0300, 3.0300, 3.0000]], grad_fn=<AddBackward0>)\n",
      "tensor([[1.],\n",
      "        [2.],\n",
      "        [3.]])\n"
     ]
    },
    {
     "ename": "RuntimeError",
     "evalue": "The expanded size of the tensor (1) must match the existing size (3) at non-singleton dimension 1.  Target sizes: [3, 1].  Tensor sizes: [3, 3]",
     "output_type": "error",
     "traceback": [
      "\u001b[0;31m---------------------------------------------------------------------------\u001b[0m",
      "\u001b[0;31mRuntimeError\u001b[0m                              Traceback (most recent call last)",
      "Cell \u001b[0;32mIn[171], line 1\u001b[0m\n\u001b[0;32m----> 1\u001b[0m model(torch\u001b[38;5;241m.\u001b[39meye(\u001b[38;5;241m3\u001b[39m),torch\u001b[38;5;241m.\u001b[39mtensor([[\u001b[38;5;241m1\u001b[39m],[\u001b[38;5;241m2\u001b[39m],[\u001b[38;5;241m3\u001b[39m]]))\n",
      "File \u001b[0;32m~/anaconda3/lib/python3.11/site-packages/torch/nn/modules/module.py:1518\u001b[0m, in \u001b[0;36mModule._wrapped_call_impl\u001b[0;34m(self, *args, **kwargs)\u001b[0m\n\u001b[1;32m   1516\u001b[0m     \u001b[38;5;28;01mreturn\u001b[39;00m \u001b[38;5;28mself\u001b[39m\u001b[38;5;241m.\u001b[39m_compiled_call_impl(\u001b[38;5;241m*\u001b[39margs, \u001b[38;5;241m*\u001b[39m\u001b[38;5;241m*\u001b[39mkwargs)  \u001b[38;5;66;03m# type: ignore[misc]\u001b[39;00m\n\u001b[1;32m   1517\u001b[0m \u001b[38;5;28;01melse\u001b[39;00m:\n\u001b[0;32m-> 1518\u001b[0m     \u001b[38;5;28;01mreturn\u001b[39;00m \u001b[38;5;28mself\u001b[39m\u001b[38;5;241m.\u001b[39m_call_impl(\u001b[38;5;241m*\u001b[39margs, \u001b[38;5;241m*\u001b[39m\u001b[38;5;241m*\u001b[39mkwargs)\n",
      "File \u001b[0;32m~/anaconda3/lib/python3.11/site-packages/torch/nn/modules/module.py:1527\u001b[0m, in \u001b[0;36mModule._call_impl\u001b[0;34m(self, *args, **kwargs)\u001b[0m\n\u001b[1;32m   1522\u001b[0m \u001b[38;5;66;03m# If we don't have any hooks, we want to skip the rest of the logic in\u001b[39;00m\n\u001b[1;32m   1523\u001b[0m \u001b[38;5;66;03m# this function, and just call forward.\u001b[39;00m\n\u001b[1;32m   1524\u001b[0m \u001b[38;5;28;01mif\u001b[39;00m \u001b[38;5;129;01mnot\u001b[39;00m (\u001b[38;5;28mself\u001b[39m\u001b[38;5;241m.\u001b[39m_backward_hooks \u001b[38;5;129;01mor\u001b[39;00m \u001b[38;5;28mself\u001b[39m\u001b[38;5;241m.\u001b[39m_backward_pre_hooks \u001b[38;5;129;01mor\u001b[39;00m \u001b[38;5;28mself\u001b[39m\u001b[38;5;241m.\u001b[39m_forward_hooks \u001b[38;5;129;01mor\u001b[39;00m \u001b[38;5;28mself\u001b[39m\u001b[38;5;241m.\u001b[39m_forward_pre_hooks\n\u001b[1;32m   1525\u001b[0m         \u001b[38;5;129;01mor\u001b[39;00m _global_backward_pre_hooks \u001b[38;5;129;01mor\u001b[39;00m _global_backward_hooks\n\u001b[1;32m   1526\u001b[0m         \u001b[38;5;129;01mor\u001b[39;00m _global_forward_hooks \u001b[38;5;129;01mor\u001b[39;00m _global_forward_pre_hooks):\n\u001b[0;32m-> 1527\u001b[0m     \u001b[38;5;28;01mreturn\u001b[39;00m forward_call(\u001b[38;5;241m*\u001b[39margs, \u001b[38;5;241m*\u001b[39m\u001b[38;5;241m*\u001b[39mkwargs)\n\u001b[1;32m   1529\u001b[0m \u001b[38;5;28;01mtry\u001b[39;00m:\n\u001b[1;32m   1530\u001b[0m     result \u001b[38;5;241m=\u001b[39m \u001b[38;5;28;01mNone\u001b[39;00m\n",
      "Cell \u001b[0;32mIn[169], line 86\u001b[0m, in \u001b[0;36mDynamics.forward\u001b[0;34m(self, R0, omega0)\u001b[0m\n\u001b[1;32m     82\u001b[0m \u001b[38;5;28;01mfor\u001b[39;00m i \u001b[38;5;129;01min\u001b[39;00m \u001b[38;5;28mrange\u001b[39m(\u001b[38;5;28mself\u001b[39m\u001b[38;5;241m.\u001b[39mnSim):\n\u001b[1;32m     84\u001b[0m     T \u001b[38;5;241m=\u001b[39m \u001b[38;5;28mself\u001b[39m\u001b[38;5;241m.\u001b[39mproportionalControl(R_mat[:,:,i]) \u001b[38;5;241m+\u001b[39m \u001b[38;5;28mself\u001b[39m\u001b[38;5;241m.\u001b[39mderivativeControl(R_mat[:,:,i], omega_mat[:,:,i])\n\u001b[0;32m---> 86\u001b[0m     R_mat[:,:,i\u001b[38;5;241m+\u001b[39m\u001b[38;5;241m1\u001b[39m], omega_mat[:,:,i\u001b[38;5;241m+\u001b[39m\u001b[38;5;241m1\u001b[39m] \u001b[38;5;241m=\u001b[39m \u001b[38;5;28mself\u001b[39m\u001b[38;5;241m.\u001b[39mdynamicalModel(R_mat[:,:,i], omega_mat[:,:,i], T)\n\u001b[1;32m     88\u001b[0m \u001b[38;5;28;01mreturn\u001b[39;00m R_mat, omega_mat\n",
      "\u001b[0;31mRuntimeError\u001b[0m: The expanded size of the tensor (1) must match the existing size (3) at non-singleton dimension 1.  Target sizes: [3, 1].  Tensor sizes: [3, 3]"
     ]
    }
   ],
   "source": []
  },
  {
   "cell_type": "code",
   "execution_count": 309,
   "id": "667dc229",
   "metadata": {},
   "outputs": [],
   "source": [
    "a,k = {},{}\n",
    "a['1'] = torch.tensor([[1.0,1.0,1.0]], dtype = torch.float32, requires_grad = True)\n",
    "b = so3_exp_map(a['1'])[0]\n",
    "c = torch.trace(b)\n",
    "d = c.clone().requires_grad_(True)\n",
    "d.backward()"
   ]
  },
  {
   "cell_type": "code",
   "execution_count": 310,
   "id": "07942626",
   "metadata": {},
   "outputs": [
    {
     "name": "stdout",
     "output_type": "stream",
     "text": [
      "tensor([[-1.1397, -1.1397, -1.1397]])\n"
     ]
    }
   ],
   "source": [
    "print(a['1'].grad)"
   ]
  },
  {
   "cell_type": "code",
   "execution_count": 311,
   "id": "ea96d662",
   "metadata": {},
   "outputs": [],
   "source": [
    "a['1'] = 5"
   ]
  },
  {
   "cell_type": "code",
   "execution_count": 335,
   "id": "5910acb7",
   "metadata": {},
   "outputs": [
    {
     "name": "stdout",
     "output_type": "stream",
     "text": [
      "1\n",
      "1\n",
      "1\n",
      "1\n",
      "1\n",
      "1\n",
      "1\n",
      "1\n",
      "1\n",
      "1\n",
      "1\n",
      "1\n",
      "1\n",
      "1\n",
      "1\n"
     ]
    }
   ],
   "source": [
    "for key1 in RPredicted:\n",
    "    for key2 in RPredicted[key1]:\n",
    "        print(1)"
   ]
  },
  {
   "cell_type": "code",
   "execution_count": 345,
   "id": "4fe328fc",
   "metadata": {},
   "outputs": [
    {
     "name": "stdout",
     "output_type": "stream",
     "text": [
      "dict_values([{'e0': tensor([[ 0.7249, -0.6225, -0.2948],\n",
      "        [ 0.6753,  0.5581,  0.4822],\n",
      "        [-0.1357, -0.5486,  0.8250]], grad_fn=<SelectBackward0>), 'e1': tensor([[ 0.7223, -0.6284, -0.2888],\n",
      "        [ 0.6743,  0.5473,  0.4958],\n",
      "        [-0.1535, -0.5529,  0.8190]], grad_fn=<MmBackward0>), 'e2': tensor([[ 0.7197, -0.6340, -0.2829],\n",
      "        [ 0.6728,  0.5366,  0.5093],\n",
      "        [-0.1711, -0.5569,  0.8128]], grad_fn=<MmBackward0>)}, {'e0': tensor([[-0.1565,  0.4785,  0.8641],\n",
      "        [-0.0037, -0.8751,  0.4839],\n",
      "        [ 0.9877,  0.0725,  0.1387]], grad_fn=<SelectBackward0>), 'e1': tensor([[-0.1451,  0.4807,  0.8648],\n",
      "        [ 0.0061, -0.8736,  0.4866],\n",
      "        [ 0.9894,  0.0759,  0.1238]], grad_fn=<MmBackward0>), 'e2': tensor([[-0.1338,  0.4830,  0.8653],\n",
      "        [ 0.0159, -0.8720,  0.4892],\n",
      "        [ 0.9909,  0.0793,  0.1090]], grad_fn=<MmBackward0>)}, {'e0': tensor([[ 0.0679,  0.8680,  0.4918],\n",
      "        [-0.6160, -0.3513,  0.7051],\n",
      "        [ 0.7848, -0.3509,  0.5108]], grad_fn=<SelectBackward0>), 'e1': tensor([[ 0.0627,  0.8716,  0.4861],\n",
      "        [-0.6158, -0.3496,  0.7061],\n",
      "        [ 0.7854, -0.3436,  0.5148]], grad_fn=<MmBackward0>), 'e2': tensor([[ 0.0574,  0.8752,  0.4804],\n",
      "        [-0.6157, -0.3478,  0.7071],\n",
      "        [ 0.7859, -0.3364,  0.5188]], grad_fn=<MmBackward0>)}, {'e0': tensor([[ 0.8843,  0.4557,  0.1022],\n",
      "        [-0.4541,  0.8901, -0.0396],\n",
      "        [-0.1090, -0.0114,  0.9940]], grad_fn=<SelectBackward0>), 'e1': tensor([[ 0.8827,  0.4582,  0.1048],\n",
      "        [-0.4542,  0.8888, -0.0605],\n",
      "        [-0.1209,  0.0058,  0.9927]], grad_fn=<MmBackward0>), 'e2': tensor([[ 0.8812,  0.4604,  0.1074],\n",
      "        [-0.4538,  0.8874, -0.0811],\n",
      "        [-0.1326,  0.0228,  0.9909]], grad_fn=<MmBackward0>)}, {'e0': tensor([[ 0.6049,  0.0485,  0.7948],\n",
      "        [-0.7500, -0.3009,  0.5891],\n",
      "        [ 0.2677, -0.9524, -0.1456]], grad_fn=<SelectBackward0>), 'e1': tensor([[ 0.6035,  0.0489,  0.7959],\n",
      "        [-0.7494, -0.3062,  0.5871],\n",
      "        [ 0.2724, -0.9507, -0.1482]], grad_fn=<MmBackward0>), 'e2': tensor([[ 0.6021,  0.0492,  0.7969],\n",
      "        [-0.7488, -0.3114,  0.5851],\n",
      "        [ 0.2769, -0.9490, -0.1507]], grad_fn=<MmBackward0>)}])\n"
     ]
    }
   ],
   "source": [
    "a = RPredicted.values()\n",
    "print(a)"
   ]
  },
  {
   "cell_type": "code",
   "execution_count": null,
   "id": "abea2be7",
   "metadata": {},
   "outputs": [],
   "source": []
  }
 ],
 "metadata": {
  "kernelspec": {
   "display_name": "Python 3 (ipykernel)",
   "language": "python",
   "name": "python3"
  },
  "language_info": {
   "codemirror_mode": {
    "name": "ipython",
    "version": 3
   },
   "file_extension": ".py",
   "mimetype": "text/x-python",
   "name": "python",
   "nbconvert_exporter": "python",
   "pygments_lexer": "ipython3",
   "version": "3.11.5"
  }
 },
 "nbformat": 4,
 "nbformat_minor": 5
}
